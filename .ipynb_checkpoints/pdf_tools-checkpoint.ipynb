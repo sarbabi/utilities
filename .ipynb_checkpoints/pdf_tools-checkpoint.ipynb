{
 "cells": [
  {
   "cell_type": "code",
   "execution_count": 19,
   "metadata": {},
   "outputs": [],
   "source": [
    "#!pip install PyPDF2"
   ]
  },
  {
   "cell_type": "markdown",
   "metadata": {},
   "source": [
    "### extract specific page numbers"
   ]
  },
  {
   "cell_type": "code",
   "execution_count": 18,
   "metadata": {},
   "outputs": [
    {
     "name": "stderr",
     "output_type": "stream",
     "text": [
      "Xref table not zero-indexed. ID numbers for objects will be corrected.\n"
     ]
    },
    {
     "name": "stdout",
     "output_type": "stream",
     "text": [
      "{'/Author': '0002624', '/CreationDate': \"D:20190208152337+05'30'\", '/Creator': 'Adobe InDesign CC 13.1 (Windows)', '/ModDate': \"D:20190208180115+05'30'\", '/Producer': 'Acrobat Distiller 10.0.0 (Windows)', '/Title': '479937_Print.indd'}\n"
     ]
    }
   ],
   "source": [
    "import os\n",
    "from PyPDF2 import PdfFileReader, PdfFileWriter\n",
    "\n",
    "start=381\n",
    "end=390\n",
    "reader = PdfFileReader(r\"C:\\Users\\saeed\\Desktop\\a.pdf\")\n",
    "print(reader.documentInfo)\n",
    "writer = PdfFileWriter()\n",
    "for page in range(start, end+1):    \n",
    "    writer.addPage(reader.getPage(page))\n",
    "    output_filename = r\"C:\\Users\\saeed\\Desktop\\a_edited.pdf\"\n",
    "    with open(output_filename,'wb') as out:\n",
    "        writer.write(out)"
   ]
  },
  {
   "cell_type": "code",
   "execution_count": null,
   "metadata": {},
   "outputs": [],
   "source": []
  }
 ],
 "metadata": {
  "kernelspec": {
   "display_name": "Python 3",
   "language": "python",
   "name": "python3"
  },
  "language_info": {
   "codemirror_mode": {
    "name": "ipython",
    "version": 3
   },
   "file_extension": ".py",
   "mimetype": "text/x-python",
   "name": "python",
   "nbconvert_exporter": "python",
   "pygments_lexer": "ipython3",
   "version": "3.7.0"
  }
 },
 "nbformat": 4,
 "nbformat_minor": 2
}
